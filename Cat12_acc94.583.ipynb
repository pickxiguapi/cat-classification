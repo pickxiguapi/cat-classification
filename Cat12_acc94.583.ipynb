{
 "cells": [
  {
   "cell_type": "markdown",
   "metadata": {
    "collapsed": false
   },
   "source": [
    "## 试题说明\n",
    "\n",
    "### 任务描述\n",
    "利用训练的模型来预测数据所属的类别。\n",
    "\n",
    "### 数据说明\n",
    "本数据集包含12种类的猫的图片。\n",
    "\n",
    "整个数据将被分为训练集与测试集。在训练数据中，我们提供彩色的图片，如图所示。\n",
    "\n",
    "训练集：在训练集中，我们将提供高清彩色图片以及图片所属的分类。\n",
    "\n",
    "测试集：在测试数据集中，我们仅仅提供彩色图片。\n",
    "\n",
    "### 提交答案\n",
    "考试提交，需要提交**模型代码项目版本**和**结果文件**。结果文件为CSV文件格式，命名为result.csv，文件内的字段需要按照指定格式写入。\n",
    "\n",
    "文件格式：WMgOhwZzacY023lCusqnBxIdibpkT5GP.jp,0\n",
    "其中，前半部分为【图片路径】，后半部分为【类别编号】，数据列以逗号分隔，每一行数据都以回车符结束。\n",
    "\n",
    "提交的预测结果要与我们提供的 label图像名字与格式 保持完全一致，否则上传无法通过格式检查\n"
   ]
  },
  {
   "cell_type": "code",
   "execution_count": null,
   "metadata": {
    "collapsed": false
   },
   "outputs": [],
   "source": [
    "\"\"\"注意！！！\r\n",
    "\r\n",
    "该命令只需运行一次\r\n",
    "\r\n",
    "该行命令用于解压缩，生成数据集、预训练模型、reader.py文件\r\n",
    "\"\"\"\r\n",
    "\r\n",
    "# !unzip data/data8136/cat_data_sets_models.zip"
   ]
  },
  {
   "cell_type": "code",
   "execution_count": null,
   "metadata": {
    "collapsed": false
   },
   "outputs": [],
   "source": [
    "import os\r\n",
    "import shutil\r\n",
    "import paddle as paddle\r\n",
    "import paddle.fluid as fluid\r\n",
    "from paddle.fluid.param_attr import ParamAttr\r\n",
    "import reader\r\n",
    "import numpy as np\r\n",
    "import pandas as pd\r\n",
    "import random"
   ]
  },
  {
   "cell_type": "code",
   "execution_count": null,
   "metadata": {
    "collapsed": false
   },
   "outputs": [],
   "source": [
    "txt_list = pd.read_table('./data_sets/cat_12/train_list.txt', header=None)\r\n",
    "print(\"-----每种标签数量----\")\r\n",
    "print(txt_list[1].value_counts())\r\n",
    "len(os.listdir('/home/aistudio/data_sets/cat_12/cat_12_test'))\r\n",
    "# 0-11共12类 每种180个"
   ]
  },
  {
   "cell_type": "code",
   "execution_count": null,
   "metadata": {
    "collapsed": false
   },
   "outputs": [],
   "source": [
    "# 获取训练集和测试集数据\r\n",
    "train_reader = paddle.batch(reader.train(), batch_size=16)\r\n",
    "test_reader = paddle.batch(reader.val(), batch_size=16)"
   ]
  },
  {
   "cell_type": "code",
   "execution_count": null,
   "metadata": {
    "collapsed": false
   },
   "outputs": [],
   "source": [
    "# implement resnet50\r\n",
    "def resnet50(input):\r\n",
    "    def conv_bn_layer(input, num_filters, filter_size, stride=1, groups=1, act=None, name=None):\r\n",
    "        conv = fluid.layers.conv2d(input=input,\r\n",
    "                                   num_filters=num_filters,\r\n",
    "                                   filter_size=filter_size,\r\n",
    "                                   stride=stride,\r\n",
    "                                   padding=(filter_size - 1) // 2,\r\n",
    "                                   groups=groups,\r\n",
    "                                   act=None,\r\n",
    "                                   param_attr=ParamAttr(name=name + \"_weights\"),\r\n",
    "                                   bias_attr=False,\r\n",
    "                                   name=name + '.conv2d.output.1')\r\n",
    "        if name == \"conv1\":\r\n",
    "            bn_name = \"bn_\" + name\r\n",
    "        else:\r\n",
    "            bn_name = \"bn\" + name[3:]\r\n",
    "        return fluid.layers.batch_norm(input=conv,\r\n",
    "                                       act=act,\r\n",
    "                                       name=bn_name + '.output.1',\r\n",
    "                                       param_attr=ParamAttr(name=bn_name + '_scale'),\r\n",
    "                                       bias_attr=ParamAttr(bn_name + '_offset'),\r\n",
    "                                       moving_mean_name=bn_name + '_mean',\r\n",
    "                                       moving_variance_name=bn_name + '_variance', )\r\n",
    "\r\n",
    "    def shortcut(input, ch_out, stride, name):\r\n",
    "        ch_in = input.shape[1]\r\n",
    "        if ch_in != ch_out or stride != 1:\r\n",
    "            return conv_bn_layer(input, ch_out, 1, stride, name=name)\r\n",
    "        else:\r\n",
    "            return input\r\n",
    "\r\n",
    "    def bottleneck_block(input, num_filters, stride, name):\r\n",
    "        conv0 = conv_bn_layer(input=input,\r\n",
    "                              num_filters=num_filters,\r\n",
    "                              filter_size=1,\r\n",
    "                              act='relu',\r\n",
    "                              name=name + \"_branch2a\")\r\n",
    "        conv1 = conv_bn_layer(input=conv0,\r\n",
    "                              num_filters=num_filters,\r\n",
    "                              filter_size=3,\r\n",
    "                              stride=stride,\r\n",
    "                              act='relu',\r\n",
    "                              name=name + \"_branch2b\")\r\n",
    "        conv2 = conv_bn_layer(input=conv1,\r\n",
    "                              num_filters=num_filters * 4,\r\n",
    "                              filter_size=1,\r\n",
    "                              act=None,\r\n",
    "                              name=name + \"_branch2c\")\r\n",
    "\r\n",
    "        short = shortcut(input, num_filters * 4, stride, name=name + \"_branch1\")\r\n",
    "\r\n",
    "        return fluid.layers.elementwise_add(x=short, y=conv2, act='relu', name=name + \".add.output.5\")\r\n",
    "\r\n",
    "    depth = [3, 4, 6, 3]\r\n",
    "    num_filters = [64, 128, 256, 512]\r\n",
    "\r\n",
    "    conv = conv_bn_layer(input=input, num_filters=64, filter_size=7, stride=2, act='relu', name=\"conv1\")\r\n",
    "    conv = fluid.layers.pool2d(input=conv, pool_size=3, pool_stride=2, pool_padding=1, pool_type='max')\r\n",
    "\r\n",
    "    for block in range(len(depth)):\r\n",
    "        for i in range(depth[block]):\r\n",
    "            conv_name = \"res\" + str(block + 2) + chr(97 + i)\r\n",
    "            conv = bottleneck_block(input=conv,\r\n",
    "                                    num_filters=num_filters[block],\r\n",
    "                                    stride=2 if i == 0 and block != 0 else 1,\r\n",
    "                                    name=conv_name)\r\n",
    "\r\n",
    "    pool = fluid.layers.pool2d(input=conv, pool_size=7, pool_type='avg', global_pooling=True)\r\n",
    "    return pool"
   ]
  },
  {
   "cell_type": "code",
   "execution_count": null,
   "metadata": {
    "collapsed": false
   },
   "outputs": [],
   "source": [
    "# 定义输入层\r\n",
    "image=fluid.layers.data(name='image',shape=[3, 224, 224],dtype='float32')\r\n",
    "label=fluid.layers.data(name='label',shape=[1],dtype='int64')\r\n",
    "\r\n",
    "# 停止梯度下降\r\n",
    "pool=resnet50(image)\r\n",
    "pool.stop_gradient=True\r\n",
    "\r\n",
    "# 创建主程序来预训练\r\n",
    "base_model_program=fluid.default_main_program().clone()\r\n",
    "model=fluid.layers.fc(input=pool,size=12,act='softmax')\r\n",
    "\r\n",
    "# 定义损失函数和准确率函数\r\n",
    "cost=fluid.layers.cross_entropy(input=model,label=label)\r\n",
    "avg_cost=fluid.layers.mean(cost)\r\n",
    "acc=fluid.layers.accuracy(input=model,label=label)\r\n",
    "\r\n",
    "# 定义优化方法\r\n",
    "optimizer=fluid.optimizer.AdamOptimizer(learning_rate=8e-5)\r\n",
    "opts=optimizer.minimize(avg_cost)\r\n",
    "\r\n",
    "# 训练场所\r\n",
    "use_gpu = True\r\n",
    "place=fluid.CUDAPlace(0) if use_gpu else fluid.CPUPlace()\r\n",
    "exe=fluid.Executor(place)\r\n",
    "\r\n",
    "# 进行参数初始化\r\n",
    "exe.run(fluid.default_startup_program())"
   ]
  },
  {
   "cell_type": "code",
   "execution_count": null,
   "metadata": {
    "collapsed": false
   },
   "outputs": [],
   "source": [
    "src_pretrain_model_path= './pretrained_models/ResNet50_pretrained/ResNet50_pretrained'\r\n",
    "# 判断模型文件是否存在\r\n",
    "def if_exit(var):\r\n",
    "    path=os.path.join(src_pretrain_model_path,var.name)\r\n",
    "    exist=os.path.exists(path)\r\n",
    "    if exist:\r\n",
    "      print('Load model: %s' % path)\r\n",
    "      return exist\r\n",
    "# 加载模型文件，且只加载存在模型的模型文件\r\n",
    "fluid.io.load_vars(executor=exe,dirname=src_pretrain_model_path,predicate=if_exit,main_program=base_model_program) "
   ]
  },
  {
   "cell_type": "code",
   "execution_count": null,
   "metadata": {
    "collapsed": false
   },
   "outputs": [],
   "source": [
    "# 定义数据维度\r\n",
    "feeder=fluid.DataFeeder(place=place,feed_list=[image,label])\r\n",
    "# 保存模型的位置\r\n",
    "save_pretrain_model_path='models/step-1_model/'\r\n",
    "\r\n",
    "for pass_id in range(100):\r\n",
    "    for batch_id,data in enumerate(train_reader()):\r\n",
    "        train_cost,train_acc=exe.run(program = fluid.default_main_program(),feed=feeder.feed(data),fetch_list=[avg_cost,acc])\r\n",
    "        if batch_id % 100 == 0:\r\n",
    "            print('Pass:%d, Batch:%d, Cost:%0.5f, Accuracy:%0.5f' %\r\n",
    "                  (pass_id, batch_id, train_cost[0], train_acc[0]))\r\n",
    "    \r\n",
    "# 删除旧的模型文件\r\n",
    "shutil.rmtree(save_pretrain_model_path,ignore_errors=True)\r\n",
    "# 创建保存模型文件记录\r\n",
    "os.makedirs(save_pretrain_model_path)\r\n",
    "# 保存参数模型\r\n",
    "fluid.io.save_params(executor=exe,dirname=save_pretrain_model_path)\r\n",
    "\r\n",
    "# print info\r\n",
    "print(\"Save model successfully!\")"
   ]
  },
  {
   "cell_type": "code",
   "execution_count": null,
   "metadata": {
    "collapsed": false
   },
   "outputs": [],
   "source": [
    "import os\r\n",
    "import shutil\r\n",
    "import paddle as paddle\r\n",
    "import paddle.dataset.flowers as flowers\r\n",
    "import paddle.fluid as fluid\r\n",
    "from paddle.fluid.param_attr import ParamAttr\r\n",
    "import reader"
   ]
  },
  {
   "cell_type": "code",
   "execution_count": null,
   "metadata": {
    "collapsed": false
   },
   "outputs": [],
   "source": [
    "train_reader = paddle.batch(reader.train(), batch_size=16)\r\n",
    "test_reader = paddle.batch(reader.val(), batch_size=16)"
   ]
  },
  {
   "cell_type": "code",
   "execution_count": null,
   "metadata": {
    "collapsed": false
   },
   "outputs": [],
   "source": [
    "def resnet50(input, class_dim):\r\n",
    "    def conv_bn_layer(input, num_filters, filter_size, stride=1, groups=1, act=None, name=None):\r\n",
    "        conv = fluid.layers.conv2d(input=input,\r\n",
    "                                   num_filters=num_filters,\r\n",
    "                                   filter_size=filter_size,\r\n",
    "                                   stride=stride,\r\n",
    "                                   padding=(filter_size - 1) // 2,\r\n",
    "                                   groups=groups,\r\n",
    "                                   act=None,\r\n",
    "                                   param_attr=ParamAttr(name=name + \"_weights\"),\r\n",
    "                                   bias_attr=False,\r\n",
    "                                   name=name + '.conv2d.output.1')\r\n",
    "        if name == \"conv1\":\r\n",
    "            bn_name = \"bn_\" + name\r\n",
    "        else:\r\n",
    "            bn_name = \"bn\" + name[3:]\r\n",
    "        return fluid.layers.batch_norm(input=conv,\r\n",
    "                                       act=act,\r\n",
    "                                       name=bn_name + '.output.1',\r\n",
    "                                       param_attr=ParamAttr(name=bn_name + '_scale'),\r\n",
    "                                       bias_attr=ParamAttr(bn_name + '_offset'),\r\n",
    "                                       moving_mean_name=bn_name + '_mean',\r\n",
    "                                       moving_variance_name=bn_name + '_variance', )\r\n",
    "\r\n",
    "    def shortcut(input, ch_out, stride, name):\r\n",
    "        ch_in = input.shape[1]\r\n",
    "        if ch_in != ch_out or stride != 1:\r\n",
    "            return conv_bn_layer(input, ch_out, 1, stride, name=name)\r\n",
    "        else:\r\n",
    "            return input\r\n",
    "\r\n",
    "    def bottleneck_block(input, num_filters, stride, name):\r\n",
    "        conv0 = conv_bn_layer(input=input,\r\n",
    "                              num_filters=num_filters,\r\n",
    "                              filter_size=1,\r\n",
    "                              act='relu',\r\n",
    "                              name=name + \"_branch2a\")\r\n",
    "        conv1 = conv_bn_layer(input=conv0,\r\n",
    "                              num_filters=num_filters,\r\n",
    "                              filter_size=3,\r\n",
    "                              stride=stride,\r\n",
    "                              act='relu',\r\n",
    "                              name=name + \"_branch2b\")\r\n",
    "        conv2 = conv_bn_layer(input=conv1,\r\n",
    "                              num_filters=num_filters * 4,\r\n",
    "                              filter_size=1,\r\n",
    "                              act=None,\r\n",
    "                              name=name + \"_branch2c\")\r\n",
    "\r\n",
    "        short = shortcut(input, num_filters * 4, stride, name=name + \"_branch1\")\r\n",
    "\r\n",
    "        return fluid.layers.elementwise_add(x=short, y=conv2, act='relu', name=name + \".add.output.5\")\r\n",
    "\r\n",
    "    depth = [3, 4, 6, 3]\r\n",
    "    num_filters = [64, 128, 256, 512]\r\n",
    "\r\n",
    "    conv = conv_bn_layer(input=input, num_filters=64, filter_size=7, stride=2, act='relu', name=\"conv1\")\r\n",
    "    conv = fluid.layers.pool2d(input=conv, pool_size=3, pool_stride=2, pool_padding=1, pool_type='max')\r\n",
    "\r\n",
    "    for block in range(len(depth)):\r\n",
    "        for i in range(depth[block]):\r\n",
    "            conv_name = \"res\" + str(block + 2) + chr(97 + i)\r\n",
    "            conv = bottleneck_block(input=conv,\r\n",
    "                                    num_filters=num_filters[block],\r\n",
    "                                    stride=2 if i == 0 and block != 0 else 1,\r\n",
    "                                    name=conv_name)\r\n",
    "\r\n",
    "    pool = fluid.layers.pool2d(input=conv, pool_size=7, pool_type='avg', global_pooling=True)\r\n",
    "    output = fluid.layers.fc(input=pool, size=class_dim, act='softmax')\r\n",
    "    return output# 定义输入层\r\n",
    "    \r\n",
    "image = fluid.layers.data(name='image', shape=[3, 224, 224], dtype='float32')\r\n",
    "label = fluid.layers.data(name='label', shape=[1], dtype='int64')\r\n",
    "\r\n",
    "# 获取分类器\r\n",
    "model = resnet50(image,12)\r\n",
    "\r\n",
    "# 获取损失函数和准确率函数\r\n",
    "cost = fluid.layers.cross_entropy(input=model, label=label)\r\n",
    "avg_cost = fluid.layers.mean(cost)\r\n",
    "acc = fluid.layers.accuracy(input=model, label=label)\r\n",
    "\r\n",
    "# 获取训练和测试程序\r\n",
    "test_program = fluid.default_main_program().clone(for_test=True)\r\n",
    "\r\n",
    "# 定义优化方法\r\n",
    "optimizer = fluid.optimizer.AdamOptimizer(learning_rate=1e-5)\r\n",
    "opts = optimizer.minimize(avg_cost)\r\n",
    "\r\n",
    "\r\n",
    "# 定义一个使用GPU的执行器\r\n",
    "place = fluid.CUDAPlace(0)\r\n",
    "#place = fluid.CPUPlace()\r\n",
    "exe = fluid.Executor(place)\r\n",
    "# 进行参数初始化\r\n",
    "exe.run(fluid.default_startup_program())"
   ]
  },
  {
   "cell_type": "code",
   "execution_count": null,
   "metadata": {
    "collapsed": false
   },
   "outputs": [],
   "source": [
    "# 经过step-1处理后的的预训练模型\r\n",
    "pretrained_model_path = 'models/step-1_model/'\r\n",
    "\r\n",
    "# 加载经过处理的模型\r\n",
    "fluid.io.load_params(executor=exe, dirname=pretrained_model_path)"
   ]
  },
  {
   "cell_type": "code",
   "execution_count": null,
   "metadata": {
    "collapsed": false
   },
   "outputs": [],
   "source": [
    "# 定义输入数据维度\r\n",
    "feeder = fluid.DataFeeder(place=place, feed_list=[image, label])\r\n",
    "\r\n",
    "# 训练50次\r\n",
    "for pass_id in range(50):\r\n",
    "    # 进行训练\r\n",
    "    for batch_id, data in enumerate(train_reader()):\r\n",
    "        train_cost, train_acc = exe.run(program=fluid.default_main_program(),\r\n",
    "                                        feed=feeder.feed(data),\r\n",
    "                                        fetch_list=[avg_cost, acc])\r\n",
    "\r\n",
    "        if batch_id % 100 == 0:\r\n",
    "            print('Pass:%d, Batch:%d, Cost:%0.5f, Accuracy:%0.5f' %\r\n",
    "                  (pass_id, batch_id, train_cost[0], train_acc[0]))\r\n",
    "\r\n",
    "    # 进行测试\r\n",
    "    test_accs = []\r\n",
    "    test_costs = []\r\n",
    "    for batch_id, data in enumerate(test_reader()):\r\n",
    "        test_cost, test_acc = exe.run(program=test_program,\r\n",
    "                                    feed=feeder.feed(data),\r\n",
    "                                    fetch_list=[avg_cost, acc])\r\n",
    "        test_accs.append(test_acc[0])\r\n",
    "        test_costs.append(test_cost[0])\r\n",
    "    # 求测试结果的平均值\r\n",
    "    test_cost = (sum(test_costs) / len(test_costs))\r\n",
    "    test_acc = (sum(test_accs) / len(test_accs))\r\n",
    "    print('Test:%d, Cost:%0.5f, Accuracy:%0.5f' % (pass_id, test_cost, test_acc))"
   ]
  }
 ],
 "metadata": {
  "kernelspec": {
   "display_name": "PaddlePaddle 1.7.2 (Python 3.5)",
   "language": "python",
   "name": "py35-paddle1.2.0"
  },
  "language_info": {
   "codemirror_mode": {
    "name": "ipython",
    "version": 3
   },
   "file_extension": ".py",
   "mimetype": "text/x-python",
   "name": "python",
   "nbconvert_exporter": "python",
   "pygments_lexer": "ipython3",
   "version": "3.7.4"
  }
 },
 "nbformat": 4,
 "nbformat_minor": 1
}
